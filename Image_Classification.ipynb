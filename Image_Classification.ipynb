{
 "cells": [
  {
   "cell_type": "code",
   "execution_count": 40,
   "id": "5724c596",
   "metadata": {},
   "outputs": [],
   "source": [
    "import tensorflow as tf\n",
    "from tensorflow import keras\n",
    "from tensorflow.keras.preprocessing.image import ImageDataGenerator,load_img\n",
    "from  tensorflow.keras.preprocessing import image\n",
    "import pandas as ps\n",
    "import numpy as np"
   ]
  },
  {
   "cell_type": "code",
   "execution_count": 2,
   "id": "e6b7f7b6",
   "metadata": {},
   "outputs": [],
   "source": [
    "img_size = [64,64,3]"
   ]
  },
  {
   "cell_type": "code",
   "execution_count": 3,
   "id": "8f10a6cd",
   "metadata": {},
   "outputs": [],
   "source": [
    "train = 'training_set/training_set/'\n",
    "test ='test_set/test_set/'\n"
   ]
  },
  {
   "cell_type": "markdown",
   "id": "4920bfd8",
   "metadata": {},
   "source": [
    "# DATA AUGMENTATION"
   ]
  },
  {
   "cell_type": "code",
   "execution_count": 4,
   "id": "bde38ec8",
   "metadata": {},
   "outputs": [],
   "source": [
    "train_datagen = ImageDataGenerator(shear_range=0.5,\n",
    "                                  rescale=1./255,\n",
    "                                  horizontal_flip=False,\n",
    "                                  zoom_range=0.3)\n",
    "test_datagen = ImageDataGenerator(rescale=1./255)"
   ]
  },
  {
   "cell_type": "code",
   "execution_count": 5,
   "id": "1dc8dfd3",
   "metadata": {},
   "outputs": [
    {
     "name": "stdout",
     "output_type": "stream",
     "text": [
      "Found 8005 images belonging to 2 classes.\n"
     ]
    }
   ],
   "source": [
    "# target_size is same as initilized image_size\n",
    "training_set = train_datagen.flow_from_directory(train,target_size=(64,64),batch_size=20,\n",
    "                                                class_mode='categorical')"
   ]
  },
  {
   "cell_type": "code",
   "execution_count": 6,
   "id": "f847c5d5",
   "metadata": {},
   "outputs": [
    {
     "name": "stdout",
     "output_type": "stream",
     "text": [
      "Found 2023 images belonging to 2 classes.\n"
     ]
    }
   ],
   "source": [
    "# target_size is same as initilized image_size\n",
    "testing_set = test_datagen.flow_from_directory(test,target_size=(64,64),batch_size=20,\n",
    "                                                class_mode='categorical')"
   ]
  },
  {
   "cell_type": "code",
   "execution_count": 7,
   "id": "a629dc99",
   "metadata": {},
   "outputs": [
    {
     "data": {
      "text/plain": [
       "{'cats': 0, 'dogs': 1}"
      ]
     },
     "execution_count": 7,
     "metadata": {},
     "output_type": "execute_result"
    }
   ],
   "source": [
    "training_set.class_indices"
   ]
  },
  {
   "cell_type": "markdown",
   "id": "0307cc43",
   "metadata": {},
   "source": [
    "# DEFINE A MODEL"
   ]
  },
  {
   "cell_type": "code",
   "execution_count": 34,
   "id": "e576bf7a",
   "metadata": {},
   "outputs": [],
   "source": [
    "model = keras.Sequential([\n",
    "    keras.layers.Conv2D(32,kernel_size = 3, input_shape=[64,64,3]),\n",
    "    keras.layers.MaxPool2D(pool_size=(2,2)),\n",
    "    keras.layers.Conv2D(64,kernel_size = 3),\n",
    "    keras.layers.MaxPool2D(pool_size=(2,2)),\n",
    "    keras.layers.Conv2D(128,kernel_size = 3),\n",
    "    keras.layers.MaxPool2D(pool_size=(2,2)),\n",
    "    keras.layers.Conv2D(256,kernel_size = 3),\n",
    "    keras.layers.MaxPool2D(pool_size=(2,2)),\n",
    "    \n",
    "    keras.layers.Dropout(0.5),\n",
    "    keras.layers.Flatten(),\n",
    "    keras.layers.Dense(128,activation='relu'),\n",
    "    keras.layers.Dropout(0.1),\n",
    "    keras.layers.Dense(256,activation='relu'),\n",
    "    keras.layers.Dropout(0.25),\n",
    "    keras.layers.Dense(2,activation='softmax')\n",
    "    \n",
    "    \n",
    "])"
   ]
  },
  {
   "cell_type": "code",
   "execution_count": 35,
   "id": "84102fad",
   "metadata": {},
   "outputs": [],
   "source": [
    "model.compile(optimizer='adam',loss ='categorical_crossentropy',metrics=['accuracy'])\n",
    "batch_size=32,"
   ]
  },
  {
   "cell_type": "markdown",
   "id": "d4c2f419",
   "metadata": {},
   "source": [
    "# TRAIN MODEL"
   ]
  },
  {
   "cell_type": "code",
   "execution_count": 36,
   "id": "88b2d8d7",
   "metadata": {},
   "outputs": [
    {
     "name": "stdout",
     "output_type": "stream",
     "text": [
      "Epoch 1/30\n",
      "102/102 [==============================] - 40s 388ms/step - loss: 0.7088 - accuracy: 0.5152 - val_loss: 0.6916 - val_accuracy: 0.5007\n",
      "Epoch 2/30\n",
      "102/102 [==============================] - 26s 251ms/step - loss: 0.6979 - accuracy: 0.5333 - val_loss: 0.7025 - val_accuracy: 0.5433\n",
      "Epoch 3/30\n",
      "102/102 [==============================] - 24s 237ms/step - loss: 0.6914 - accuracy: 0.5461 - val_loss: 0.6643 - val_accuracy: 0.6065\n",
      "Epoch 4/30\n",
      "102/102 [==============================] - 23s 225ms/step - loss: 0.6804 - accuracy: 0.5706 - val_loss: 0.6386 - val_accuracy: 0.6416\n",
      "Epoch 5/30\n",
      "102/102 [==============================] - 23s 225ms/step - loss: 0.6556 - accuracy: 0.6078 - val_loss: 0.6355 - val_accuracy: 0.6253\n",
      "Epoch 6/30\n",
      "102/102 [==============================] - 23s 221ms/step - loss: 0.6566 - accuracy: 0.6294 - val_loss: 0.7074 - val_accuracy: 0.5868\n",
      "Epoch 7/30\n",
      "102/102 [==============================] - 22s 212ms/step - loss: 0.6497 - accuracy: 0.6157 - val_loss: 0.6113 - val_accuracy: 0.6624\n",
      "Epoch 8/30\n",
      "102/102 [==============================] - 21s 206ms/step - loss: 0.6516 - accuracy: 0.6279 - val_loss: 0.6340 - val_accuracy: 0.6278\n",
      "Epoch 9/30\n",
      "102/102 [==============================] - 21s 203ms/step - loss: 0.6028 - accuracy: 0.6736 - val_loss: 0.6056 - val_accuracy: 0.6871\n",
      "Epoch 10/30\n",
      "102/102 [==============================] - 21s 208ms/step - loss: 0.6280 - accuracy: 0.6505 - val_loss: 0.6540 - val_accuracy: 0.6342\n",
      "Epoch 11/30\n",
      "102/102 [==============================] - 21s 203ms/step - loss: 0.6142 - accuracy: 0.6578 - val_loss: 0.6976 - val_accuracy: 0.6130\n",
      "Epoch 12/30\n",
      "102/102 [==============================] - 20s 201ms/step - loss: 0.5989 - accuracy: 0.6794 - val_loss: 0.6107 - val_accuracy: 0.6609\n",
      "Epoch 13/30\n",
      "102/102 [==============================] - 21s 206ms/step - loss: 0.5792 - accuracy: 0.7052 - val_loss: 0.5786 - val_accuracy: 0.7049\n",
      "Epoch 14/30\n",
      "102/102 [==============================] - 20s 201ms/step - loss: 0.5748 - accuracy: 0.7083 - val_loss: 0.6029 - val_accuracy: 0.6915\n",
      "Epoch 15/30\n",
      "102/102 [==============================] - 21s 205ms/step - loss: 0.5714 - accuracy: 0.6995 - val_loss: 0.5491 - val_accuracy: 0.7242\n",
      "Epoch 16/30\n",
      "102/102 [==============================] - 21s 207ms/step - loss: 0.5454 - accuracy: 0.7132 - val_loss: 0.5354 - val_accuracy: 0.7355\n",
      "Epoch 17/30\n",
      "102/102 [==============================] - 21s 206ms/step - loss: 0.5519 - accuracy: 0.7137 - val_loss: 0.5520 - val_accuracy: 0.7291\n",
      "Epoch 18/30\n",
      "102/102 [==============================] - 20s 197ms/step - loss: 0.5232 - accuracy: 0.7495 - val_loss: 0.5457 - val_accuracy: 0.7355\n",
      "Epoch 19/30\n",
      "102/102 [==============================] - 20s 201ms/step - loss: 0.5159 - accuracy: 0.7407 - val_loss: 0.5269 - val_accuracy: 0.7533\n",
      "Epoch 20/30\n",
      "102/102 [==============================] - 21s 203ms/step - loss: 0.5226 - accuracy: 0.7462 - val_loss: 0.5673 - val_accuracy: 0.7286\n",
      "Epoch 21/30\n",
      "102/102 [==============================] - 21s 207ms/step - loss: 0.5031 - accuracy: 0.7466 - val_loss: 0.5420 - val_accuracy: 0.7538\n",
      "Epoch 22/30\n",
      "102/102 [==============================] - 21s 208ms/step - loss: 0.5088 - accuracy: 0.7393 - val_loss: 0.4945 - val_accuracy: 0.7627\n",
      "Epoch 23/30\n",
      "102/102 [==============================] - 20s 197ms/step - loss: 0.5122 - accuracy: 0.7593 - val_loss: 0.5186 - val_accuracy: 0.7484\n",
      "Epoch 24/30\n",
      "102/102 [==============================] - 20s 193ms/step - loss: 0.5024 - accuracy: 0.7456 - val_loss: 0.5135 - val_accuracy: 0.7696\n",
      "Epoch 25/30\n",
      "102/102 [==============================] - 20s 192ms/step - loss: 0.4931 - accuracy: 0.7500 - val_loss: 0.4761 - val_accuracy: 0.7909\n",
      "Epoch 26/30\n",
      "102/102 [==============================] - 20s 194ms/step - loss: 0.4935 - accuracy: 0.7588 - val_loss: 0.4749 - val_accuracy: 0.7870\n",
      "Epoch 27/30\n",
      "102/102 [==============================] - 20s 197ms/step - loss: 0.4809 - accuracy: 0.7603 - val_loss: 0.5097 - val_accuracy: 0.7558\n",
      "Epoch 28/30\n",
      "102/102 [==============================] - 21s 203ms/step - loss: 0.4911 - accuracy: 0.7529 - val_loss: 0.4891 - val_accuracy: 0.7721\n",
      "Epoch 29/30\n",
      "102/102 [==============================] - 21s 205ms/step - loss: 0.4648 - accuracy: 0.7799 - val_loss: 0.4692 - val_accuracy: 0.7687\n",
      "Epoch 30/30\n",
      "102/102 [==============================] - 21s 204ms/step - loss: 0.4775 - accuracy: 0.7733 - val_loss: 0.4938 - val_accuracy: 0.7652\n"
     ]
    },
    {
     "data": {
      "text/plain": [
       "<keras.callbacks.History at 0x1c7595736d0>"
      ]
     },
     "execution_count": 36,
     "metadata": {},
     "output_type": "execute_result"
    }
   ],
   "source": [
    "model.fit(training_set,validation_data=testing_set,\n",
    "         steps_per_epoch=len(testing_set),\n",
    "         epochs=30,\n",
    "         validation_steps=len(testing_set))"
   ]
  },
  {
   "cell_type": "markdown",
   "id": "755abd52",
   "metadata": {},
   "source": [
    "# SAVE MODEL"
   ]
  },
  {
   "cell_type": "code",
   "execution_count": 38,
   "id": "f0d1eda6",
   "metadata": {},
   "outputs": [],
   "source": [
    "model.save('Cat_Dog_classifier.h5')"
   ]
  },
  {
   "cell_type": "markdown",
   "id": "b6b978af",
   "metadata": {},
   "source": [
    "# LOAD MODEL"
   ]
  },
  {
   "cell_type": "code",
   "execution_count": 42,
   "id": "40b7ecfa",
   "metadata": {},
   "outputs": [],
   "source": [
    "model1 = keras.models.load_model(\"Cat_Dog_classifier.h5\")"
   ]
  },
  {
   "cell_type": "markdown",
   "id": "0b5f8920",
   "metadata": {},
   "source": [
    "# Testing the image"
   ]
  },
  {
   "cell_type": "code",
   "execution_count": 43,
   "id": "4652a4a2",
   "metadata": {},
   "outputs": [],
   "source": [
    "img_path = 'test_set/test_set/cats/cat.4004.jpg'"
   ]
  },
  {
   "cell_type": "code",
   "execution_count": 45,
   "id": "e965024e",
   "metadata": {},
   "outputs": [
    {
     "data": {
      "image/png": "[encoded data removed]",
      "text/plain": [
       "<PIL.Image.Image image mode=RGB size=64x64 at 0x1C75B3C4EB0>"
      ]
     },
     "execution_count": 45,
     "metadata": {},
     "output_type": "execute_result"
    }
   ],
   "source": [
    "img = image.load_img(img_path,target_size=(64,64))\n",
    "img"
   ]
  },
  {
   "cell_type": "code",
   "execution_count": 54,
   "id": "ac4e7d40",
   "metadata": {},
   "outputs": [
    {
     "name": "stdout",
     "output_type": "stream",
     "text": [
      "CAT\n"
     ]
    }
   ],
   "source": [
    "x =image.img_to_array(img)\n",
    "x = x/255\n",
    "x =np.expand_dims(x,axis=0)\n",
    "pred = np.argmax(model1.predict(x)[0],axis=0)\n",
    "\n",
    "if pred ==1:\n",
    "    print('DOG')\n",
    "else:\n",
    "        print(\"CAT\")"
   ]
  }
 ],
 "metadata": {
  "kernelspec": {
   "display_name": "Python 3",
   "language": "python",
   "name": "python3"
  },
  "language_info": {
   "codemirror_mode": {
    "name": "ipython",
    "version": 3
   },
   "file_extension": ".py",
   "mimetype": "text/x-python",
   "name": "python",
   "nbconvert_exporter": "python",
   "pygments_lexer": "ipython3",
   "version": "3.8.8"
  }
 },
 "nbformat": 4,
 "nbformat_minor": 5
}
